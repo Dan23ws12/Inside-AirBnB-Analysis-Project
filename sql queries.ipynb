{
 "cells": [
  {
   "cell_type": "code",
   "execution_count": 17,
   "metadata": {},
   "outputs": [],
   "source": [
    "\n",
    "import pandas as pd\n",
    "import sqlalchemy\n",
    "from dotenv import dotenv_values"
   ]
  },
  {
   "cell_type": "markdown",
   "metadata": {},
   "source": [
    "Importing Data"
   ]
  },
  {
   "cell_type": "code",
   "execution_count": 30,
   "metadata": {},
   "outputs": [],
   "source": [
    "listings = pd.read_excel(\".//Augmented Data//listings.xlsx\", sheet_name=\"listings\")"
   ]
  },
  {
   "cell_type": "code",
   "execution_count": 31,
   "metadata": {},
   "outputs": [],
   "source": [
    "reviews = pd.read_excel(\".//Augmented Data//reviews.xlsx\")"
   ]
  },
  {
   "cell_type": "code",
   "execution_count": 32,
   "metadata": {},
   "outputs": [],
   "source": [
    "hosts = pd.read_excel(\".//Augmented Data//host.xlsx\")"
   ]
  },
  {
   "cell_type": "markdown",
   "metadata": {},
   "source": [
    "Configurating MySQL Connection"
   ]
  },
  {
   "cell_type": "code",
   "execution_count": 12,
   "metadata": {},
   "outputs": [],
   "source": [
    "env_vars = dotenv_values(\".env\")\n",
    "driver_dialect = f\"{env_vars[\"DIALECT\"]}+{env_vars[\"DRIVER\"]}\"\n",
    "user_pass = f\"{env_vars[\"USERNAME\"]}:{env_vars[\"PASSWORD\"]}\"\n",
    "host_port = f\"{env_vars[\"HOSTNAME\"]}:{env_vars[\"PORTNUMBER\"]}\"\n",
    "db_name = f\"{env_vars[\"DATABASENAME\"]}\"\n",
    "engine = sqlalchemy.create_engine(driver_dialect+\"://\"+user_pass+ \"@\"+host_port+\"/\"+db_name)"
   ]
  },
  {
   "cell_type": "markdown",
   "metadata": {},
   "source": [
    "Cleaning the Data"
   ]
  },
  {
   "cell_type": "code",
   "execution_count": 69,
   "metadata": {},
   "outputs": [],
   "source": [
    "def review_rename_col():\n",
    "    \"\"\"\n",
    "    Returns a dictionary with the names of the columns in reviews \n",
    "    df I want renamed and their renamements\n",
    "    \"\"\"\n",
    "    reviews_rename_dict = {\"number_of_reviews\": \"total_num_reviews\",\n",
    "                        \"number_of_reviews_ltm\": \"num_reviews_ltm\"}\n",
    "    reviews_rename_dict[\"number_of_reviews_ltm\"] = \"num_reviews_ltm\"\n",
    "    reviews_rename_dict[\"number_of_reviews_l30d\"] = \"num_reviews_l30d\"\n",
    "    reviews_rename_dict[\"review_scores_rating\"] = \"rating_score\"\n",
    "    reviews_rename_dict[\"review_scores_accuracy\"] = \"accuracy_score\"\n",
    "    reviews_rename_dict[\"review_scores_value\"] = \"value_score\"\n",
    "    reviews_rename_dict[\"review_scores_cleanliness\"] = \"cleanliness_score\"\n",
    "    reviews_rename_dict[\"review_scores_checkin\"] = \"checkin_score\"\n",
    "    reviews_rename_dict[\"review_scores_location\"] = \"location_score\"\n",
    "    reviews_rename_dict[\"review_scores_communication\"] = \"communication_score\"\n",
    "\n",
    "    return reviews_rename_dict\n",
    "reviews.rename(columns= review_rename_col(), inplace=True)"
   ]
  },
  {
   "cell_type": "code",
   "execution_count": 58,
   "metadata": {},
   "outputs": [],
   "source": [
    "def listing_rename_col():\n",
    "    \"\"\"\n",
    "    Returns a dictionary with the names of the columns in listings \n",
    "    df I want renamed and their renamements\n",
    "    \"\"\"\n",
    "    listing_rename_dict = {\"accomodates\":\"num_can_accomodate\"}\n",
    "    listing_rename_dict[\"id\"] = \"listing_id\"\n",
    "    listing_rename_dict[\"neighbourhood_cleansed\"] = \"neighbourhood\"\n",
    "    listing_rename_dict[\"bathrooms\"] = \"num_bathrooms\"\n",
    "    listing_rename_dict[\"bedrooms\"] = \"num_bedrooms\"\n",
    "    listing_rename_dict[\"beds\"] = \"num_beds\"\n",
    "    \n",
    "\n",
    "    return listing_rename_dict\n",
    "listings.rename(columns= listing_rename_col(), inplace=True)"
   ]
  },
  {
   "cell_type": "code",
   "execution_count": 33,
   "metadata": {},
   "outputs": [],
   "source": [
    "hosts.drop(columns=[\"calculated_host_listings_count\",\n",
    "                    'calculated_host_listings_count_entire_homes', \n",
    "                    'calculated_host_listings_count_private_rooms',\n",
    "                    'calculated_host_listings_count_shared_rooms'], inplace=True)"
   ]
  },
  {
   "cell_type": "code",
   "execution_count": 36,
   "metadata": {},
   "outputs": [],
   "source": [
    "listings.drop(columns=['listing_url', 'latitude', 'longitude', 'bathrooms_text',\n",
    "                       'minimum_minimum_nights', 'maximum_minimum_nights',\n",
    "                       'minimum_maximum_nights', 'maximum_maximum_nights',\n",
    "                       'minimum_nights_avg_ntm', 'maximum_nights_avg_ntm',\n",
    "                       'availability_30', 'availability_60', 'availability_90',\n",
    "                       'availability_365', 'license', 'expiry_date'], inplace=True)\n"
   ]
  },
  {
   "cell_type": "code",
   "execution_count": 37,
   "metadata": {},
   "outputs": [],
   "source": [
    "reviews.drop(columns=[\"last_review\", \"first_review\"], inplace=True)"
   ]
  },
  {
   "cell_type": "code",
   "execution_count": 60,
   "metadata": {},
   "outputs": [],
   "source": [
    "def transform_to_bool(df):\n",
    "    \"\"\"\n",
    "    Returns a dataframe where t is True and f is renamed with False\n",
    "    \"\"\"\n",
    "    return df.map(lambda x: x == \"t\")\n"
   ]
  },
  {
   "cell_type": "code",
   "execution_count": 61,
   "metadata": {},
   "outputs": [],
   "source": [
    "hosts[\"host_identity_verified\"] = transform_to_bool(hosts[\"host_identity_verified\"])\n",
    "hosts[\"host_is_superhost\"] = transform_to_bool(hosts[\"host_is_superhost\"])\n",
    "hosts[\"host_has_profile_pic\"] = transform_to_bool(hosts[\"host_has_profile_pic\"])"
   ]
  },
  {
   "cell_type": "code",
   "execution_count": 62,
   "metadata": {},
   "outputs": [],
   "source": [
    "listings[\"instant_bookable\"] = transform_to_bool(listings[\"instant_bookable\"])\n",
    "listings[\"has_availability\"] = transform_to_bool(listings[\"has_availability\"])"
   ]
  },
  {
   "cell_type": "code",
   "execution_count": 64,
   "metadata": {},
   "outputs": [
    {
     "data": {
      "text/html": [
       "<div>\n",
       "<style scoped>\n",
       "    .dataframe tbody tr th:only-of-type {\n",
       "        vertical-align: middle;\n",
       "    }\n",
       "\n",
       "    .dataframe tbody tr th {\n",
       "        vertical-align: top;\n",
       "    }\n",
       "\n",
       "    .dataframe thead th {\n",
       "        text-align: right;\n",
       "    }\n",
       "</style>\n",
       "<table border=\"1\" class=\"dataframe\">\n",
       "  <thead>\n",
       "    <tr style=\"text-align: right;\">\n",
       "      <th></th>\n",
       "      <th>host_id</th>\n",
       "      <th>host_name</th>\n",
       "      <th>host_since</th>\n",
       "      <th>host_location</th>\n",
       "      <th>host_response_time</th>\n",
       "      <th>host_response_rate</th>\n",
       "      <th>host_acceptance_rate</th>\n",
       "      <th>host_is_superhost</th>\n",
       "      <th>host_neighbourhood</th>\n",
       "      <th>host_listings_count</th>\n",
       "      <th>host_total_listings_count</th>\n",
       "      <th>host_has_profile_pic</th>\n",
       "      <th>host_identity_verified</th>\n",
       "    </tr>\n",
       "  </thead>\n",
       "  <tbody>\n",
       "    <tr>\n",
       "      <th>0</th>\n",
       "      <td>2319</td>\n",
       "      <td>Gail</td>\n",
       "      <td>2008-08-19</td>\n",
       "      <td>Montréal, Canada</td>\n",
       "      <td>within an hour</td>\n",
       "      <td>1.0</td>\n",
       "      <td>0.70</td>\n",
       "      <td>False</td>\n",
       "      <td>Little Burgundy</td>\n",
       "      <td>4</td>\n",
       "      <td>7</td>\n",
       "      <td>True</td>\n",
       "      <td>True</td>\n",
       "    </tr>\n",
       "    <tr>\n",
       "      <th>1</th>\n",
       "      <td>39653</td>\n",
       "      <td>Miozoti</td>\n",
       "      <td>2009-09-19</td>\n",
       "      <td>Montréal, Canada</td>\n",
       "      <td>within an hour</td>\n",
       "      <td>1.0</td>\n",
       "      <td>0.91</td>\n",
       "      <td>True</td>\n",
       "      <td>Le Plateau</td>\n",
       "      <td>2</td>\n",
       "      <td>5</td>\n",
       "      <td>True</td>\n",
       "      <td>True</td>\n",
       "    </tr>\n",
       "    <tr>\n",
       "      <th>2</th>\n",
       "      <td>40853</td>\n",
       "      <td>Lili</td>\n",
       "      <td>2009-09-23</td>\n",
       "      <td>Montréal, Canada</td>\n",
       "      <td>within an hour</td>\n",
       "      <td>1.0</td>\n",
       "      <td>0.80</td>\n",
       "      <td>True</td>\n",
       "      <td>Notre-Dame-de-Grace</td>\n",
       "      <td>2</td>\n",
       "      <td>2</td>\n",
       "      <td>True</td>\n",
       "      <td>True</td>\n",
       "    </tr>\n",
       "    <tr>\n",
       "      <th>3</th>\n",
       "      <td>125031</td>\n",
       "      <td>Maryline</td>\n",
       "      <td>2010-05-14</td>\n",
       "      <td>Montréal, Canada</td>\n",
       "      <td>within an hour</td>\n",
       "      <td>1.0</td>\n",
       "      <td>0.99</td>\n",
       "      <td>False</td>\n",
       "      <td>Downtown Montreal</td>\n",
       "      <td>2</td>\n",
       "      <td>2</td>\n",
       "      <td>True</td>\n",
       "      <td>True</td>\n",
       "    </tr>\n",
       "    <tr>\n",
       "      <th>4</th>\n",
       "      <td>133747</td>\n",
       "      <td>Caroline</td>\n",
       "      <td>2010-05-27</td>\n",
       "      <td>Montréal, Canada</td>\n",
       "      <td>within an hour</td>\n",
       "      <td>1.0</td>\n",
       "      <td>0.48</td>\n",
       "      <td>True</td>\n",
       "      <td>NaN</td>\n",
       "      <td>3</td>\n",
       "      <td>3</td>\n",
       "      <td>True</td>\n",
       "      <td>True</td>\n",
       "    </tr>\n",
       "  </tbody>\n",
       "</table>\n",
       "</div>"
      ],
      "text/plain": [
       "   host_id host_name host_since     host_location host_response_time  \\\n",
       "0     2319      Gail 2008-08-19  Montréal, Canada     within an hour   \n",
       "1    39653   Miozoti 2009-09-19  Montréal, Canada     within an hour   \n",
       "2    40853      Lili 2009-09-23  Montréal, Canada     within an hour   \n",
       "3   125031  Maryline 2010-05-14  Montréal, Canada     within an hour   \n",
       "4   133747  Caroline 2010-05-27  Montréal, Canada     within an hour   \n",
       "\n",
       "   host_response_rate  host_acceptance_rate  host_is_superhost  \\\n",
       "0                 1.0                  0.70              False   \n",
       "1                 1.0                  0.91               True   \n",
       "2                 1.0                  0.80               True   \n",
       "3                 1.0                  0.99              False   \n",
       "4                 1.0                  0.48               True   \n",
       "\n",
       "    host_neighbourhood  host_listings_count  host_total_listings_count  \\\n",
       "0      Little Burgundy                    4                          7   \n",
       "1           Le Plateau                    2                          5   \n",
       "2  Notre-Dame-de-Grace                    2                          2   \n",
       "3    Downtown Montreal                    2                          2   \n",
       "4                  NaN                    3                          3   \n",
       "\n",
       "   host_has_profile_pic  host_identity_verified  \n",
       "0                  True                    True  \n",
       "1                  True                    True  \n",
       "2                  True                    True  \n",
       "3                  True                    True  \n",
       "4                  True                    True  "
      ]
     },
     "execution_count": 64,
     "metadata": {},
     "output_type": "execute_result"
    }
   ],
   "source": [
    "hosts.head()"
   ]
  },
  {
   "cell_type": "markdown",
   "metadata": {},
   "source": [
    "Exporting Data to MySQL"
   ]
  },
  {
   "cell_type": "code",
   "execution_count": 73,
   "metadata": {},
   "outputs": [
    {
     "data": {
      "text/plain": [
       "9539"
      ]
     },
     "execution_count": 73,
     "metadata": {},
     "output_type": "execute_result"
    }
   ],
   "source": [
    "listings.to_sql(\"listings\", engine, if_exists=\"append\", index=False)"
   ]
  },
  {
   "cell_type": "code",
   "execution_count": 74,
   "metadata": {},
   "outputs": [
    {
     "data": {
      "text/plain": [
       "3944"
      ]
     },
     "execution_count": 74,
     "metadata": {},
     "output_type": "execute_result"
    }
   ],
   "source": [
    "hosts.to_sql(\"hosts\", engine, if_exists=\"append\", index=False)"
   ]
  },
  {
   "cell_type": "code",
   "execution_count": 75,
   "metadata": {},
   "outputs": [
    {
     "data": {
      "text/plain": [
       "9539"
      ]
     },
     "execution_count": 75,
     "metadata": {},
     "output_type": "execute_result"
    }
   ],
   "source": [
    "reviews.to_sql(\"reviews\", engine, if_exists=\"append\", index=False)"
   ]
  }
 ],
 "metadata": {
  "kernelspec": {
   "display_name": "Python 3",
   "language": "python",
   "name": "python3"
  },
  "language_info": {
   "codemirror_mode": {
    "name": "ipython",
    "version": 3
   },
   "file_extension": ".py",
   "mimetype": "text/x-python",
   "name": "python",
   "nbconvert_exporter": "python",
   "pygments_lexer": "ipython3",
   "version": "3.12.4"
  }
 },
 "nbformat": 4,
 "nbformat_minor": 2
}
